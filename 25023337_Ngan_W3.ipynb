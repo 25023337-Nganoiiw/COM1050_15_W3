{
 "cells": [
  {
   "cell_type": "markdown",
   "id": "16fae416-fbdc-43ed-9500-2e6dc2c1aeb2",
   "metadata": {},
   "source": [
    "# BÀI 1"
   ]
  },
  {
   "cell_type": "markdown",
   "id": "15de52e2-39fe-4dcc-aea0-25f14d57ce13",
   "metadata": {},
   "source": [
    "## Hoán đổi hai giá trị"
   ]
  },
  {
   "cell_type": "code",
   "execution_count": 1,
   "id": "3d5f7d29-0df2-4e6d-a794-b7ab97b26d62",
   "metadata": {},
   "outputs": [],
   "source": [
    "a=5\n",
    "b=7"
   ]
  },
  {
   "cell_type": "code",
   "execution_count": 4,
   "id": "a0085430-c475-43b4-99a5-1121306a4333",
   "metadata": {},
   "outputs": [
    {
     "data": {
      "text/plain": [
       "(5, 7)"
      ]
     },
     "execution_count": 4,
     "metadata": {},
     "output_type": "execute_result"
    }
   ],
   "source": [
    "a, b"
   ]
  },
  {
   "cell_type": "code",
   "execution_count": 16,
   "id": "15700640-a8f3-4fb6-ac6b-72551add5257",
   "metadata": {},
   "outputs": [],
   "source": [
    "a, b =b, a"
   ]
  },
  {
   "cell_type": "code",
   "execution_count": 17,
   "id": "4e06d0fd-8aa9-408a-8513-439aaea4f2e8",
   "metadata": {},
   "outputs": [
    {
     "data": {
      "text/plain": [
       "(7, 5)"
      ]
     },
     "execution_count": 17,
     "metadata": {},
     "output_type": "execute_result"
    }
   ],
   "source": [
    "b,a"
   ]
  },
  {
   "cell_type": "markdown",
   "id": "5da4bfed-fedd-4419-8d14-b986ff45aa38",
   "metadata": {},
   "source": [
    "## AND, OR, XOR"
   ]
  },
  {
   "cell_type": "code",
   "execution_count": 19,
   "id": "66d240ed-7788-47d6-918f-3978efe25f52",
   "metadata": {},
   "outputs": [
    {
     "name": "stdin",
     "output_type": "stream",
     "text": [
      " 5 7\n"
     ]
    },
    {
     "name": "stdout",
     "output_type": "stream",
     "text": [
      "Giá trị ban đầu của a: 5; b: 7\n",
      "Giá trị sau khi hoán đổi của a: 7; b: 5\n"
     ]
    }
   ],
   "source": [
    "a, b = map(int,input().split())\n",
    "print(f\"Giá trị ban đầu của a: {a}; b: {b}\")\n",
    "a = a^b\n",
    "b = a^b\n",
    "a = a^b\n",
    "print(f\"Giá trị sau khi hoán đổi của a: {a}; b: {b}\")"
   ]
  },
  {
   "cell_type": "markdown",
   "id": "c1fc4ed7-7bc3-45e2-b268-93dd3d62ed3a",
   "metadata": {},
   "source": [
    "# BÀI 2"
   ]
  },
  {
   "cell_type": "code",
   "execution_count": 21,
   "id": "9f33545b-cf7d-4bf4-ab1f-d5f35e959d67",
   "metadata": {},
   "outputs": [
    {
     "name": "stdin",
     "output_type": "stream",
     "text": [
      " 8\n"
     ]
    },
    {
     "name": "stdout",
     "output_type": "stream",
     "text": [
      "8 là lũy thừa của 2\n"
     ]
    }
   ],
   "source": [
    "a=int(input())\n",
    "if (a & (a-1)== 0): \n",
    "    print(f\"{a} là lũy thừa của 2\")\n",
    "else:\n",
    "    print(f\"{a} không là lũy thừa của 2\")"
   ]
  },
  {
   "cell_type": "markdown",
   "id": "69e875d6-9d9b-432f-9125-1543f5945d1e",
   "metadata": {},
   "source": [
    "# Bài 3, 4"
   ]
  },
  {
   "cell_type": "markdown",
   "id": "3cc80408-7d85-4b84-808c-e0d786d0e161",
   "metadata": {},
   "source": [
    "## Làm tròn lên, làm tròn xuống"
   ]
  },
  {
   "cell_type": "code",
   "execution_count": 26,
   "id": "01624cb1-73fb-49bb-af70-32bff1f3c270",
   "metadata": {},
   "outputs": [
    {
     "name": "stdin",
     "output_type": "stream",
     "text": [
      " 7 2\n"
     ]
    },
    {
     "name": "stdout",
     "output_type": "stream",
     "text": [
      "kết quả làm tròn lên: m/n= 4\n",
      "kết quả làm tròn xuống: m/n= 3\n"
     ]
    }
   ],
   "source": [
    "import math\n",
    "m, n= map(int,input().split())\n",
    "print(\"kết quả làm tròn lên:\",\"m/n=\", math.ceil(m/n))\n",
    "print(\"kết quả làm tròn xuống:\",\"m/n=\", math.floor(m/n))"
   ]
  },
  {
   "cell_type": "code",
   "execution_count": null,
   "id": "06070183-d115-4b4b-865c-6b0fe0fe055a",
   "metadata": {},
   "outputs": [],
   "source": []
  }
 ],
 "metadata": {
  "kernelspec": {
   "display_name": "Python 3 (ipykernel)",
   "language": "python",
   "name": "python3"
  },
  "language_info": {
   "codemirror_mode": {
    "name": "ipython",
    "version": 3
   },
   "file_extension": ".py",
   "mimetype": "text/x-python",
   "name": "python",
   "nbconvert_exporter": "python",
   "pygments_lexer": "ipython3",
   "version": "3.13.5"
  }
 },
 "nbformat": 4,
 "nbformat_minor": 5
}
