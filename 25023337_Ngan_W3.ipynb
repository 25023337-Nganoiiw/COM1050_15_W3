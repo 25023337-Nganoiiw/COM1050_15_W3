{
 "cells": [
  {
   "cell_type": "markdown",
   "id": "16fae416-fbdc-43ed-9500-2e6dc2c1aeb2",
   "metadata": {},
   "source": [
    "# W3A2"
   ]
  },
  {
   "cell_type": "markdown",
   "id": "15de52e2-39fe-4dcc-aea0-25f14d57ce13",
   "metadata": {},
   "source": [
    "## Hoán đổi hai giá trị"
   ]
  },
  {
   "cell_type": "code",
   "execution_count": 1,
   "id": "3d5f7d29-0df2-4e6d-a794-b7ab97b26d62",
   "metadata": {},
   "outputs": [],
   "source": [
    "a=5\n",
    "b=7"
   ]
  },
  {
   "cell_type": "code",
   "execution_count": 4,
   "id": "a0085430-c475-43b4-99a5-1121306a4333",
   "metadata": {},
   "outputs": [
    {
     "data": {
      "text/plain": [
       "(5, 7)"
      ]
     },
     "execution_count": 4,
     "metadata": {},
     "output_type": "execute_result"
    }
   ],
   "source": [
    "a, b"
   ]
  },
  {
   "cell_type": "code",
   "execution_count": 16,
   "id": "15700640-a8f3-4fb6-ac6b-72551add5257",
   "metadata": {},
   "outputs": [],
   "source": [
    "a, b =b, a"
   ]
  },
  {
   "cell_type": "code",
   "execution_count": 17,
   "id": "4e06d0fd-8aa9-408a-8513-439aaea4f2e8",
   "metadata": {},
   "outputs": [
    {
     "data": {
      "text/plain": [
       "(7, 5)"
      ]
     },
     "execution_count": 17,
     "metadata": {},
     "output_type": "execute_result"
    }
   ],
   "source": [
    "b,a"
   ]
  },
  {
   "cell_type": "markdown",
   "id": "5da4bfed-fedd-4419-8d14-b986ff45aa38",
   "metadata": {},
   "source": [
    "## AND, OR, XOR"
   ]
  },
  {
   "cell_type": "code",
   "execution_count": 19,
   "id": "66d240ed-7788-47d6-918f-3978efe25f52",
   "metadata": {},
   "outputs": [
    {
     "name": "stdin",
     "output_type": "stream",
     "text": [
      " 5 7\n"
     ]
    },
    {
     "name": "stdout",
     "output_type": "stream",
     "text": [
      "Giá trị ban đầu của a: 5; b: 7\n",
      "Giá trị sau khi hoán đổi của a: 7; b: 5\n"
     ]
    }
   ],
   "source": [
    "a, b = map(int,input().split())\n",
    "print(f\"Giá trị ban đầu của a: {a}; b: {b}\")\n",
    "a = a^b\n",
    "b = a^b\n",
    "a = a^b\n",
    "print(f\"Giá trị sau khi hoán đổi của a: {a}; b: {b}\")"
   ]
  },
  {
   "cell_type": "markdown",
   "id": "c1fc4ed7-7bc3-45e2-b268-93dd3d62ed3a",
   "metadata": {},
   "source": [
    "# W3A3"
   ]
  },
  {
   "cell_type": "code",
   "execution_count": 21,
   "id": "9f33545b-cf7d-4bf4-ab1f-d5f35e959d67",
   "metadata": {},
   "outputs": [
    {
     "name": "stdin",
     "output_type": "stream",
     "text": [
      " 8\n"
     ]
    },
    {
     "name": "stdout",
     "output_type": "stream",
     "text": [
      "8 là lũy thừa của 2\n"
     ]
    }
   ],
   "source": [
    "a=int(input())\n",
    "if (a & (a-1)== 0): \n",
    "    print(f\"{a} là lũy thừa của 2\")\n",
    "else:\n",
    "    print(f\"{a} không là lũy thừa của 2\")"
   ]
  },
  {
   "cell_type": "markdown",
   "id": "69e875d6-9d9b-432f-9125-1543f5945d1e",
   "metadata": {},
   "source": [
    "# W3A4, W3A5"
   ]
  },
  {
   "cell_type": "markdown",
   "id": "3cc80408-7d85-4b84-808c-e0d786d0e161",
   "metadata": {},
   "source": [
    "## Làm tròn lên, làm tròn xuống"
   ]
  },
  {
   "cell_type": "code",
   "execution_count": 28,
   "id": "01624cb1-73fb-49bb-af70-32bff1f3c270",
   "metadata": {},
   "outputs": [
    {
     "name": "stdin",
     "output_type": "stream",
     "text": [
      " 7 2\n"
     ]
    },
    {
     "name": "stdout",
     "output_type": "stream",
     "text": [
      "kết quả làm tròn lên: 7 / 2 = 4\n",
      "kết quả làm tròn xuống: 7 / 2 = 3\n"
     ]
    }
   ],
   "source": [
    "import math\n",
    "m, n= map(int,input().split())\n",
    "print(\"kết quả làm tròn lên:\", m, \"/\", n, \"=\", math.ceil(m/n))\n",
    "print(\"kết quả làm tròn xuống:\", m, \"/\", n, \"=\", math.floor(m/n))"
   ]
  },
  {
   "cell_type": "markdown",
   "id": "0d49a55c-fabd-49b9-8e14-4439afa2143a",
   "metadata": {},
   "source": [
    "# W3A6"
   ]
  },
  {
   "cell_type": "markdown",
   "id": "858b0736-a69e-47df-b787-a36fee4b4a93",
   "metadata": {},
   "source": [
    "## Số chẵn, số lẻ"
   ]
  },
  {
   "cell_type": "code",
   "execution_count": 31,
   "id": "06070183-d115-4b4b-865c-6b0fe0fe055a",
   "metadata": {},
   "outputs": [
    {
     "name": "stdin",
     "output_type": "stream",
     "text": [
      " 4653843476462847562875684758\n"
     ]
    },
    {
     "name": "stdout",
     "output_type": "stream",
     "text": [
      "4653843476462847562875684758 is even\n"
     ]
    }
   ],
   "source": [
    "x=int(input())\n",
    "if a%2==0:\n",
    "    print(x, \"is even\")\n",
    "else:\n",
    "    print(x, \"is odd\")"
   ]
  },
  {
   "cell_type": "markdown",
   "id": "96fa0ef5-97c8-426f-b5d7-6ea64da4263b",
   "metadata": {},
   "source": [
    "# W3A7"
   ]
  },
  {
   "cell_type": "markdown",
   "id": "7d9ec2f7-a18f-4d17-ae20-8016f53fbc9f",
   "metadata": {},
   "source": [
    "## Số âm, số dương"
   ]
  },
  {
   "cell_type": "code",
   "execution_count": 10,
   "id": "4dd70692-076b-4069-9309-5df46a73d4f6",
   "metadata": {},
   "outputs": [
    {
     "name": "stdin",
     "output_type": "stream",
     "text": [
      " -5 45\n"
     ]
    },
    {
     "name": "stdout",
     "output_type": "stream",
     "text": [
      "No\n"
     ]
    }
   ],
   "source": [
    "a, b=map(int,input().split())\n",
    "if a <0 and b <0:\n",
    "    print(\"Yes\")\n",
    "else:\n",
    "    print(\"No\")"
   ]
  },
  {
   "cell_type": "markdown",
   "id": "eca96a57-6434-4eb8-9c7d-314846e949c7",
   "metadata": {},
   "source": [
    "# W3A8"
   ]
  },
  {
   "cell_type": "code",
   "execution_count": 18,
   "id": "b3d50198-d703-4cda-803a-dd51b4fa7b20",
   "metadata": {},
   "outputs": [
    {
     "name": "stdin",
     "output_type": "stream",
     "text": [
      " dài ngắn\n"
     ]
    },
    {
     "name": "stdout",
     "output_type": "stream",
     "text": [
      "False\n"
     ]
    }
   ],
   "source": [
    "a, b=map(str,input().split())\n",
    "if len(a)>len(b):\n",
    "    print(\"True\")\n",
    "else:\n",
    "    print(\"False\")"
   ]
  },
  {
   "cell_type": "markdown",
   "id": "25a44ef3-71f1-4439-b9a5-7dab4130e21d",
   "metadata": {},
   "source": [
    "# W3A9 + W3A11"
   ]
  },
  {
   "cell_type": "markdown",
   "id": "92a65a8f-2c4e-4dbf-9b47-6b02929b692e",
   "metadata": {},
   "source": [
    "## Tam giác, phân loại tam giác"
   ]
  },
  {
   "cell_type": "code",
   "execution_count": 50,
   "id": "6646a186-387e-4510-8d67-1b3d35a4b6a9",
   "metadata": {},
   "outputs": [
    {
     "name": "stdin",
     "output_type": "stream",
     "text": [
      " 437 63 63\n"
     ]
    },
    {
     "name": "stdout",
     "output_type": "stream",
     "text": [
      "Ba số (437, 63, 63) không tạo thành một tam giác\n"
     ]
    }
   ],
   "source": [
    "a, b, c=map(int,input().split())\n",
    "# Tổng độ dài hai cạnh bất kỳ trong tam giác luôn lớn hơn cạnh còn lại\n",
    "# Tam giác đều có 3 cạnh bằng nhau (đk tam giác đều ưu tiên trc cân)\n",
    "# Tam giác cân có 2 cạnh bằng nhau\n",
    "# Tam giác vuông có tổng 2 cạnh bình phương = bình phương cạnh còn lại\n",
    "if a+b>c and a+c>b and b+c>a:\n",
    "    if a==b==c:\n",
    "        d= \"cân\"\n",
    "    elif a==b or a==c or b==c:\n",
    "        d=\"đều\"\n",
    "    elif a**2==b**2+c**2 or b**2==a**2+c**2 or c**2==a**2+b**2:\n",
    "        d= \"vuông\"\n",
    "    else:\n",
    "        d=\"thường\"\n",
    "    print(f\"Ba số {a,b,c} tạo thành một tam giác {d}\")\n",
    "else:\n",
    "    print(f\"Ba số {a,b,c} không tạo thành một tam giác\")"
   ]
  },
  {
   "cell_type": "markdown",
   "id": "ef7ef594-f447-456f-bbcd-16078679bf9b",
   "metadata": {},
   "source": [
    "# W3A10"
   ]
  },
  {
   "cell_type": "markdown",
   "id": "290a3f92-15ae-4609-98b4-23ccd3bf8e44",
   "metadata": {},
   "source": [
    "## Số lớn nhất"
   ]
  },
  {
   "cell_type": "code",
   "execution_count": 38,
   "id": "f3a9ed0b-21ae-42e5-8695-e22ad0d283ee",
   "metadata": {},
   "outputs": [
    {
     "name": "stdin",
     "output_type": "stream",
     "text": [
      "Nhập các số: -46 4 6 0\n"
     ]
    },
    {
     "name": "stdout",
     "output_type": "stream",
     "text": [
      "Số lớn nhất là: 6\n"
     ]
    }
   ],
   "source": [
    "numbers= list(map(int,input(\"Nhập các số:\").split()))\n",
    "print (\"Số lớn nhất là:\", max(numbers))"
   ]
  },
  {
   "cell_type": "markdown",
   "id": "20a3523e-efbe-4a22-bc2c-1d218c2fe98b",
   "metadata": {},
   "source": [
    "# W3A12"
   ]
  },
  {
   "cell_type": "code",
   "execution_count": 58,
   "id": "88eaec6b-d25a-47aa-891a-ae330b0bfbaf",
   "metadata": {},
   "outputs": [
    {
     "name": "stdin",
     "output_type": "stream",
     "text": [
      "Năm 2524\n"
     ]
    },
    {
     "name": "stdout",
     "output_type": "stream",
     "text": [
      "Là năm nhuận\n"
     ]
    }
   ],
   "source": [
    "n=int(input(\"Năm\"))\n",
    "if n % 4 == 0 and n % 100 != 0 or n % 400 == 0:\n",
    "    print(\"Là năm nhuận\")\n",
    "else:\n",
    "    print(\"Là năm không nhuận\")"
   ]
  },
  {
   "cell_type": "markdown",
   "id": "df7df480-a840-4633-a5ae-05b599892550",
   "metadata": {},
   "source": [
    "# W3A14\n",
    "ko có w3a13:v"
   ]
  },
  {
   "cell_type": "markdown",
   "id": "5673f706-5630-4f1a-89e3-83176f5e1a2c",
   "metadata": {},
   "source": [
    "## Giải phương trình bậc nhất"
   ]
  },
  {
   "cell_type": "code",
   "execution_count": 2,
   "id": "7060ed66-e2c2-49a8-a965-af127fec4b4c",
   "metadata": {},
   "outputs": [
    {
     "name": "stdin",
     "output_type": "stream",
     "text": [
      " 7 -656\n"
     ]
    },
    {
     "name": "stdout",
     "output_type": "stream",
     "text": [
      "Ta có phương trình: 7x + -656= 0\n",
      "Phương trình có nghiệm: x = 93.71\n"
     ]
    }
   ],
   "source": [
    "e, f=map(float,input().split())\n",
    "print (f\"Ta có phương trình: {e:g}x + {f:g}= 0\")\n",
    "if e == 0 and f != 0:\n",
    "    print (\"Phương trình vô nghiệm\")\n",
    "elif e == 0 and f == 0:\n",
    "    print (\"Phương trình vô số nghiệm\")\n",
    "else: \n",
    "    print(f\"Phương trình có nghiệm: x = {-f/e:.2f}\")"
   ]
  },
  {
   "cell_type": "markdown",
   "id": "5981c0a5-52e9-4651-af87-f290b54e5faf",
   "metadata": {},
   "source": [
    "# W3A15"
   ]
  },
  {
   "cell_type": "markdown",
   "id": "f4a4d0dd-cd8f-411b-89dd-f424646f28df",
   "metadata": {},
   "source": [
    "## Học lực"
   ]
  },
  {
   "cell_type": "code",
   "execution_count": null,
   "id": "ce0c9e00-6ee9-4dac-9889-bb2360437880",
   "metadata": {},
   "outputs": [],
   "source": [
    "def hoc_luc():\n",
    "    score=float(input())\n",
    "    if score>10:\n",
    "        return \"Thiên tài\"\n",
    "    elif score<0:\n",
    "        return \"Siuuu nhân\"\n",
    "    elif score>=8:\n",
    "        return \"Giỏi\"\n",
    "    elif score>=6.5:\n",
    "        return\"Khá\"\n",
    "    elif score>=5:\n",
    "        return\"Trung bình\"\n",
    "    else:\n",
    "        return\"Yếu\"\n",
    "hoc_luc()"
   ]
  },
  {
   "cell_type": "markdown",
   "id": "ab46f273-c0d7-48a1-bcbe-29fb27a08236",
   "metadata": {},
   "source": [
    "# W3A16"
   ]
  },
  {
   "cell_type": "code",
   "execution_count": 8,
   "id": "3e3757bd-171f-4670-a78d-58286f512b09",
   "metadata": {},
   "outputs": [
    {
     "name": "stdin",
     "output_type": "stream",
     "text": [
      " 2.8\n"
     ]
    },
    {
     "name": "stdout",
     "output_type": "stream",
     "text": [
      "3 2 3\n"
     ]
    }
   ],
   "source": [
    "x = float(input())\n",
    "# Làm tròn lên\n",
    "o = int(x) + (x > 0 and x != int(x))\n",
    "# Làm tròn xuống\n",
    "m = int(x) - (x < 0 and x != int(x))\n",
    "# Làm tròn tới số nguyên gần nhất\n",
    "g = int(x) + (x - int(x) >= 0.5) - (x - int(x) <= -0.5)\n",
    "print(o, m, g)\n"
   ]
  },
  {
   "cell_type": "markdown",
   "id": "18ad4ca0-6722-4580-8adb-6457cd167a38",
   "metadata": {},
   "source": [
    "# W3A17"
   ]
  },
  {
   "cell_type": "code",
   "execution_count": 11,
   "id": "1bf3b12e-bb8e-4960-8164-6edad919764e",
   "metadata": {},
   "outputs": [
    {
     "name": "stdin",
     "output_type": "stream",
     "text": [
      " 2 4 8 16\n"
     ]
    },
    {
     "name": "stdout",
     "output_type": "stream",
     "text": [
      "(2, 4, 8, 16) tạo thành một cấp số nhân với công bội là 2.0\n"
     ]
    }
   ],
   "source": [
    "a, b, c, d=map(int,input().split())\n",
    "if b%a==0:\n",
    "    if (b/a)*b==c and (b/a)*c==d:\n",
    "        print (f\"{a, b, c, d} tạo thành một cấp số nhân với công bội là {b/a}\")\n",
    "    else:\n",
    "        print (f\"{a, b, c, d} không tạo thành một cấp số nhân\")\n",
    "else:\n",
    "    print (f\"{a, b, c, d} không tạo thành một cấp số nhân với công bội nguyên\")\n",
    "    "
   ]
  }
 ],
 "metadata": {
  "kernelspec": {
   "display_name": "Python 3 (ipykernel)",
   "language": "python",
   "name": "python3"
  },
  "language_info": {
   "codemirror_mode": {
    "name": "ipython",
    "version": 3
   },
   "file_extension": ".py",
   "mimetype": "text/x-python",
   "name": "python",
   "nbconvert_exporter": "python",
   "pygments_lexer": "ipython3",
   "version": "3.13.5"
  }
 },
 "nbformat": 4,
 "nbformat_minor": 5
}
