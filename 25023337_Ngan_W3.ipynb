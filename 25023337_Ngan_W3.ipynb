{
 "cells": [
  {
   "cell_type": "markdown",
   "id": "16fae416-fbdc-43ed-9500-2e6dc2c1aeb2",
   "metadata": {},
   "source": [
    "# BÀI 1"
   ]
  },
  {
   "cell_type": "markdown",
   "id": "15de52e2-39fe-4dcc-aea0-25f14d57ce13",
   "metadata": {},
   "source": [
    "## Hoán đổi hai giá trị"
   ]
  },
  {
   "cell_type": "code",
   "execution_count": 1,
   "id": "3d5f7d29-0df2-4e6d-a794-b7ab97b26d62",
   "metadata": {},
   "outputs": [],
   "source": [
    "a=5\n",
    "b=7"
   ]
  },
  {
   "cell_type": "code",
   "execution_count": 4,
   "id": "a0085430-c475-43b4-99a5-1121306a4333",
   "metadata": {},
   "outputs": [
    {
     "data": {
      "text/plain": [
       "(5, 7)"
      ]
     },
     "execution_count": 4,
     "metadata": {},
     "output_type": "execute_result"
    }
   ],
   "source": [
    "a, b"
   ]
  },
  {
   "cell_type": "code",
   "execution_count": 16,
   "id": "15700640-a8f3-4fb6-ac6b-72551add5257",
   "metadata": {},
   "outputs": [],
   "source": [
    "a, b =b, a"
   ]
  },
  {
   "cell_type": "code",
   "execution_count": 17,
   "id": "4e06d0fd-8aa9-408a-8513-439aaea4f2e8",
   "metadata": {},
   "outputs": [
    {
     "data": {
      "text/plain": [
       "(7, 5)"
      ]
     },
     "execution_count": 17,
     "metadata": {},
     "output_type": "execute_result"
    }
   ],
   "source": [
    "b,a"
   ]
  },
  {
   "cell_type": "markdown",
   "id": "5da4bfed-fedd-4419-8d14-b986ff45aa38",
   "metadata": {},
   "source": [
    "## AND, OR, XOR"
   ]
  },
  {
   "cell_type": "code",
   "execution_count": null,
   "id": "66d240ed-7788-47d6-918f-3978efe25f52",
   "metadata": {},
   "outputs": [],
   "source": [
    "a,b = map(int, input().split())\n"
   ]
  }
 ],
 "metadata": {
  "kernelspec": {
   "display_name": "Python 3 (ipykernel)",
   "language": "python",
   "name": "python3"
  },
  "language_info": {
   "codemirror_mode": {
    "name": "ipython",
    "version": 3
   },
   "file_extension": ".py",
   "mimetype": "text/x-python",
   "name": "python",
   "nbconvert_exporter": "python",
   "pygments_lexer": "ipython3",
   "version": "3.13.5"
  }
 },
 "nbformat": 4,
 "nbformat_minor": 5
}
